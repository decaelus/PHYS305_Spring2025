{
 "cells": [
  {
   "cell_type": "markdown",
   "id": "9e4573d6",
   "metadata": {},
   "source": [
    "### 11."
   ]
  },
  {
   "cell_type": "markdown",
   "id": "50036db5",
   "metadata": {},
   "source": [
    "HST has an aperture of 2.4 m, while JWST has an aperture of 6.5 m, almost three times bigger. So we expect the detection limits for JWST to be much lower (the limiting magnitude $m_{\\rm limit}$ will be much larger) since it can collect much more light. "
   ]
  },
  {
   "cell_type": "markdown",
   "id": "41e82c81",
   "metadata": {},
   "source": [
    "We can use Eq. 6.19 for this problem, which tells us the limiting flux\n",
    "$$\n",
    "f_{\\rm limit} = \\left( \\frac{\\pi}{\\kappa} \\right)^{1/2} \\left( \\frac{b_\\lambda}{t} \\right)^{1/2} \\left( \\frac{\\lambda}{D^2} \\right).\n",
    "$$"
   ]
  },
  {
   "cell_type": "markdown",
   "id": "4f4cf510",
   "metadata": {},
   "source": [
    "We're told to assume the same detector, exposure times, and wavelengths, so the ratio of limiting flux densities for the scopes is\n",
    "$$\n",
    "\\frac{f_{\\rm limit,\\ HST}}{f_{\\rm limit,\\ JWST}} = \\left( \\frac{b_{\\lambda,\\ {\\rm HST}}}{b_{\\lambda,\\ {\\rm JWST}}} \\right)^{1/2} \\left( \\frac{D_{\\rm JWST}}{D_{\\rm HST}} \\right)^2.\n",
    "$$"
   ]
  },
  {
   "cell_type": "markdown",
   "id": "284dce8c",
   "metadata": {},
   "source": [
    "We're asked to estimate the limit for JWST in terms of magnitudes, however, so we'll convert this ratio of flux densities into magnitudes:\n",
    "$$\n",
    "m_{\\rm limit,\\ HST} - m_{\\rm limit,\\ JWST} = -2.5\\log_{10}\\left( \\frac{f_{\\rm limit,\\ HST}}{f_{\\rm limit,\\ JWST}}\\right) = -2.5\\log_{10}\\left( \\left( \\frac{b_{\\lambda,\\ {\\rm HST}}}{b_{\\lambda,\\ {\\rm JWST}}} \\right)^{1/2} \\left( \\frac{D_{\\rm JWST}}{D_{\\rm HST}} \\right)^2 \\right)\\\\\n",
    "=-2.5 \\log_{10} \\left( \\left( \\frac{b_{\\lambda,\\ {\\rm HST}}}{b_{\\lambda,\\ {\\rm JWST}}} \\right)^{1/2} \\right) - 2.5 \\log_{10} \\left(  \\left( \\frac{D_{\\rm JWST}}{D_{\\rm HST}} \\right)^2 \\right)\\\\\n",
    "= -\\left( 1/2 \\right) 2.5 \\log_{10} \\left( \\frac{b_{\\lambda,\\ {\\rm HST}}}{b_{\\lambda,\\ {\\rm JWST}}} \\right) - 5 \\log_{10} \\left( \\frac{D_{\\rm JWST}}{D_{\\rm HST}} \\right).\n",
    "$$"
   ]
  },
  {
   "cell_type": "markdown",
   "id": "5376b855",
   "metadata": {},
   "source": [
    "We're told that the background for JWST is 1.0 magnitudes per square arcsec is 1.0 magnitudes fainter (i.e., *larger*) than for HST, so let's incorporate that information as\n",
    "$$\n",
    "-\\left( 1/2 \\right) 2.5 \\log_{10} \\left( \\frac{b_{\\lambda,\\ {\\rm HST}}}{b_{\\lambda,\\ {\\rm JWST}}} \\right) = \\left( 1/2 \\right) \\left( m_{b_{\\lambda,\\ {\\rm HST}}} - m_{b_{\\lambda,\\ {\\rm JWST}}} \\right) = -\\left( 1/2 \\right) \\left( 1.0 \\right) = -0.5.\n",
    "$$"
   ]
  },
  {
   "cell_type": "markdown",
   "id": "6a1b41b8",
   "metadata": {},
   "source": [
    "And we have\n",
    "$$\n",
    "\\left( \\frac{D_{\\rm JWST}}{D_{\\rm HST}} \\right) = \\left( \\frac{6.5\\,{\\rm m}}{2.4\\,{\\rm m}} \\right) = 2.7.\n",
    "$$"
   ]
  },
  {
   "cell_type": "markdown",
   "id": "791de415",
   "metadata": {},
   "source": [
    "So\n",
    "$$\n",
    "m_{\\rm limit,\\ HST} - m_{\\rm limit,\\ JWST} = -0.5 - 5 \\log_{10} \\left( 2.7 \\right) = -2.7 \\Rightarrow m_{\\rm limit,\\ JWST} = 26.0 + 2.7  = \\boxed{ 28.7 }.\n",
    "$$\n",
    "or JWST will be able to see things almost 10 ($=10^{2.7/2.5}$) times dimmer than HST is."
   ]
  },
  {
   "cell_type": "markdown",
   "id": "faa280dd",
   "metadata": {},
   "source": [
    "### 12."
   ]
  },
  {
   "cell_type": "markdown",
   "id": "6c79965e",
   "metadata": {},
   "source": [
    "We can appeal to Eq. 6.18 for this problem:\n",
    "$$\n",
    "f_{\\rm limit} = \\frac{1}{2} \\left( \\frac{\\pi}{\\kappa} \\right)^{1/2} \\left( \\frac{b_{\\rm \\lambda}}{t} \\right)^{1/2} \\left( \\frac{\\theta}{T_{\\rm A} D} \\right)\n",
    "$$"
   ]
  },
  {
   "cell_type": "markdown",
   "id": "148998c9",
   "metadata": {},
   "source": [
    "For this problem, we'll take a similar ratio as before, assuming the same $\\kappa$ for each telescope, the same exposure times, and $T_{\\rm A} \\approx 1$ for the ground-based scope:\n",
    "$$\n",
    "\\frac{f_{\\rm limit,\\ ELT}}{f_{\\rm limit,\\ JWST}} = \\left( \\frac{b_{\\rm \\lambda,\\ {\\rm ELT}}}{b_{\\rm \\lambda,\\ {\\rm JWST}}} \\right)^{1/2} \\left( \\frac{\\theta_{\\rm ELT}}{\\theta_{\\rm JWST}} \\right) \\left( \\frac{D_{\\rm JWST}}{D_{\\rm ELT}} \\right).\n",
    "$$"
   ]
  },
  {
   "cell_type": "markdown",
   "id": "2d0337df",
   "metadata": {},
   "source": [
    "As in the last problem, we'll translate this flux ratio into a difference in magnitudes:\n",
    "$$\n",
    "m_{\\rm limit,\\ ELT} - m_{\\rm limit,\\ JWST} = -2.5 \\log_{10} \\left( \\frac{f_{\\rm limit,\\ ELT}}{f_{\\rm limit,\\ JWST}} \\right) = -\\left( 1/2 \\right) 2.5 \\log_{10} \\left( \\frac{b_{\\rm \\lambda,\\ {\\rm ELT}}}{b_{\\rm \\lambda,\\ {\\rm JWST}}} \\right) - 2.5 \\log_{10} \\left( \\frac{\\theta_{\\rm ELT}}{\\theta_{\\rm JWST}} \\right) - 2.5 \\log_{10} \\left( \\frac{D_{\\rm JWST}}{D_{\\rm ELT}} \\right).\n",
    "$$"
   ]
  },
  {
   "cell_type": "markdown",
   "id": "7b05f059",
   "metadata": {},
   "source": [
    "As before the backgrounds are given in terms of magnitudes, so \n",
    "$$\n",
    "-\\left( 1/2 \\right) 2.5 \\log_{10} \\left( \\frac{b_{\\rm \\lambda,\\ {\\rm ELT}}}{b_{\\rm \\lambda,\\ {\\rm JWST}}} \\right) = \\left( 1/2 \\right) \\left( m_{b_{\\lambda,\\ {\\rm ELT}}} - m_{b_{\\lambda,\\ {\\rm JWST}}} \\right) = -\\left( 1/2 \\right)\\left( 2 \\right) = -1.\n",
    "$$"
   ]
  },
  {
   "cell_type": "markdown",
   "id": "d78a88dc",
   "metadata": {},
   "source": [
    "The ratio of PSFs is\n",
    "$$\n",
    "-2.5 \\log_{10} \\left( \\frac{\\theta_{\\rm ELT}}{\\theta_{\\rm JWST}} \\right) = -2.5 \\log_{10} \\left( 4 \\right) = -1.5.\n",
    "$$"
   ]
  },
  {
   "cell_type": "markdown",
   "id": "b55478a4",
   "metadata": {},
   "source": [
    "Finally, the ratio of diameters\n",
    "$$\n",
    "-2.5\\log_{10} \\left( \\frac{D_{\\rm JWST}}{D_{\\rm ELT}} \\right) = -2.5\\log_{10} \\left( \\frac{6.5\\,{\\rm m}}{24\\,{\\rm m}} \\right) = 1.4.\n",
    "$$"
   ]
  },
  {
   "cell_type": "markdown",
   "id": "c1cb2f0c",
   "metadata": {},
   "source": [
    "So we have\n",
    "$$\n",
    "m_{\\rm limit,\\ ELT} - m_{\\rm limit,\\ JWST} = -1 - 1.5 + 1.4 \\Rightarrow = m_{\\rm limit,\\ ELT} = m_{\\rm limit,\\ JWST} - 1.1 = 26.9.\n",
    "$$\n",
    "So, although ELT is expensive (\\$1.1 billion USD) and is slated to take about 11 years to build, it will be able to achieve nearly the same limiting magnitude as JWST, which cost ten times as much and took about 30 years to design, build, and launch."
   ]
  },
  {
   "cell_type": "markdown",
   "id": "441a7a54",
   "metadata": {},
   "source": [
    "### JWST Problems"
   ]
  },
  {
   "cell_type": "markdown",
   "id": "5a624f62",
   "metadata": {},
   "source": [
    "### 1."
   ]
  },
  {
   "cell_type": "markdown",
   "id": "d6736573",
   "metadata": {},
   "source": [
    "As indicated in the problem, JWST is chilled to 7 degrees K. We can use Wien's displacement law to calculate the wavelength $\\lambda_{\\rm max}$ at which its thermal radiation peaks:\n",
    "$$\n",
    "\\lambda_{\\rm max} = \\frac{3\\times10^{-3}\\, {\\rm m\\ K}}{T} = \\frac{3\\times10^{-3}\\, {\\rm m\\ K}}{7\\,{\\rm K}} = 428\\,{\\rm \\mu m},\n",
    "$$\n",
    "well redward of the reddest wavelengths JWST observes in. So that's why the thermal component of the background keeps rising, and beyond that wavelength is when the thermal background would drop off."
   ]
  },
  {
   "cell_type": "markdown",
   "id": "9411266b",
   "metadata": {},
   "source": [
    "### 2."
   ]
  },
  {
   "cell_type": "markdown",
   "id": "34fc105f",
   "metadata": {},
   "source": [
    "Again, using Wien's displacement:\n",
    "$$\n",
    "\\lambda_{\\rm max} = \\frac{3\\times10^{-3}\\, {\\rm m\\ K}}{30\\,{\\rm K}} = 100\\,{\\rm \\mu m}.\n",
    "$$\n",
    "\n",
    "So we'd expect the thermal background still to rise on the red-side of JWST's observing band, but, since the telescope would be warmer, there would be even more thermal radiation. Thus, the thermal background would be even larger within the band, too."
   ]
  }
 ],
 "metadata": {
  "kernelspec": {
   "display_name": "Python 3 (ipykernel)",
   "language": "python",
   "name": "python3"
  },
  "language_info": {
   "codemirror_mode": {
    "name": "ipython",
    "version": 3
   },
   "file_extension": ".py",
   "mimetype": "text/x-python",
   "name": "python",
   "nbconvert_exporter": "python",
   "pygments_lexer": "ipython3",
   "version": "3.8.8"
  }
 },
 "nbformat": 4,
 "nbformat_minor": 5
}
